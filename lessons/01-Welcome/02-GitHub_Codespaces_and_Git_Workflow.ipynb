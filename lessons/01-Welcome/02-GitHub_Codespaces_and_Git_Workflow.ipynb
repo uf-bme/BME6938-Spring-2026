{
 "cells": [
  {
   "cell_type": "markdown",
   "id": "89ec4ef1",
   "metadata": {
    "slideshow": {
     "slide_type": "slide"
    }
   },
   "source": [
    "# GitHub Codespaces & Git Workflow 🚀\n",
    "\n"
   ]
  },
  {
   "cell_type": "markdown",
   "id": "9131e2fe",
   "metadata": {
    "slideshow": {
     "slide_type": "fragment"
    }
   },
   "source": [
    "## 🗺️ Agenda\n",
    "1. What is GitHub?\n",
    "2. What is Codespaces?  \n",
    "3. Benefits & why we use it  \n",
    "4. Open & configure a Codespace  \n",
    "5. Git: local vs remote  \n",
    "6. Typical Git workflow  \n",
    "7. Git basics (clone → edit/commit → push)  \n",
    "8. Mini hands‑on challenges  \n"
   ]
  },
  {
   "cell_type": "markdown",
   "id": "c47dfd86",
   "metadata": {},
   "source": [
    "## 🐙 What is GitHub?\n",
    "\n",
    "**GitHub** is a web-based platform for version control and collaboration built on top of Git.  \n",
    "It allows developers to store, manage, and track changes to their code in repositories (repos).\n",
    "\n",
    "**Key features:**  \n",
    "- **Version Control**: Track every change made to your code over time 📝  \n",
    "- **Collaboration**: Multiple developers can work on the same project simultaneously 👥  \n",
    "- **Code Hosting**: Store your code in the cloud, accessible from anywhere 🌐  \n",
    "- **Pull Requests**: Propose, review, and discuss code changes before merging 🔄  \n",
    "- **Issue Tracking**: Manage bugs, features, and project tasks 🎯  \n",
    "- **Community**: Share open-source projects and contribute to others' work 🤝\n",
    "\n",
    "**In simple terms:** GitHub is like Google Drive for code, but with powerful tools for developers to collaborate and manage their projects effectively!"
   ]
  },
  {
   "cell_type": "markdown",
   "id": "d801c808",
   "metadata": {
    "slideshow": {
     "slide_type": "slide"
    }
   },
   "source": [
    "## 💻 What is GitHub Codespaces?\n",
    "**GitHub Codespaces** is a cloud-based development environment that runs on GitHub's servers.  \n",
    "You get a full-featured VS Code-like editor in the browser with your repo preloaded.\n",
    "\n",
    "**Key ideas:**  \n",
    "- Your dev environment lives in the **cloud**  \n",
    "- You can open it **from any device** with a browser  \n",
    "- It uses a **dev container** to standardize tools & versions\n"
   ]
  },
  {
   "cell_type": "markdown",
   "id": "c2c345a4",
   "metadata": {
    "slideshow": {
     "slide_type": "fragment"
    }
   },
   "source": [
    "## 🌟 Benefits of Codespaces\n",
    "- **Setup-free**: Start coding in minutes—no installs on your laptop ✅  \n",
    "- **Consistency**: Everyone has the same tools & versions 🔁  \n",
    "- **Compute in the cloud**: Powerful machines without burning your battery ⚡  \n",
    "- **Portability**: Switch devices; keep working seamlessly 🌐  \n",
    "- **Integrated with GitHub**: Great for PRs, Codespaces secrets, Actions, etc. 🤝\n"
   ]
  },
  {
   "cell_type": "markdown",
   "id": "de02d4a7",
   "metadata": {
    "slideshow": {
     "slide_type": "slide"
    }
   },
   "source": [
    "## 🏁 Open a Codespace (Step-by-step)\n",
    "1. Go to any GitHub repo you can access\n",
    "2. Click **Code** → **Codespaces** tab → **Create codespace on main**\n",
    "3. Wait for it to start, then explore:\n",
    "   - **File explorer**, **Terminal**, **Extensions**, **Ports**\n",
    "4. Try running a command in the terminal (below) 👇\n"
   ]
  },
  {
   "cell_type": "code",
   "execution_count": null,
   "id": "963e5fd8",
   "metadata": {
    "slideshow": {
     "slide_type": "fragment"
    }
   },
   "outputs": [],
   "source": [
    "# Try running a basic shell command in the Codespaces terminal\n",
    "!python --version\n",
    "!git --version\n",
    "!ls -la\n"
   ]
  },
  {
   "cell_type": "markdown",
   "id": "887cefc3",
   "metadata": {
    "slideshow": {
     "slide_type": "subslide"
    }
   },
   "source": [
    "## ⚙️ Configure Your Codespace\n",
    "- Install extensions (e.g., Python, GitHub Pull Requests)  \n",
    "- Customize settings: **Settings → Features** (Node, Python, etc.)  \n",
    "- Use **devcontainer.json** to preinstall tools on start\n"
   ]
  },
  {
   "cell_type": "code",
   "execution_count": null,
   "id": "dd701252",
   "metadata": {
    "slideshow": {
     "slide_type": "fragment"
    }
   },
   "outputs": [],
   "source": [
    "# Example: devcontainer.json (place under .devcontainer/devcontainer.json)\n",
    "# This is a reference snippet; create/edit via the Codespaces Command Palette.\n",
    "devcontainer_example = r'''\n",
    "{\n",
    "  \"name\": \"Python Dev\",\n",
    "  \"image\": \"mcr.microsoft.com/devcontainers/python:3.11\",\n",
    "  \"features\": {\n",
    "    \"ghcr.io/devcontainers/features/github-cli:1\": {}\n",
    "  },\n",
    "  \"postCreateCommand\": \"pip install -U pip\",\n",
    "  \"customizations\": {\n",
    "    \"vscode\": {\n",
    "      \"extensions\": [\"ms-python.python\", \"ms-toolsai.jupyter\"]\n",
    "    }\n",
    "  }\n",
    "}\n",
    "'''\n",
    "print(devcontainer_example)\n"
   ]
  },
  {
   "cell_type": "markdown",
   "id": "a8508432",
   "metadata": {
    "slideshow": {
     "slide_type": "slide"
    }
   },
   "source": [
    "## 🧭 Git: Local vs Remote\n",
    "- **Local repo**: lives on your machine (your Codespace filesystem)  \n",
    "- **Remote repo**: lives on a server (e.g., **GitHub**)  \n",
    "- You **pull** from remote to local, and **push** from local to remote\n",
    "\n",
    "> Think of the remote as the \"source of truth\" shared by your team,  \n",
    "> and your local as your **workspace**.\n"
   ]
  },
  {
   "cell_type": "markdown",
   "id": "0729fa92",
   "metadata": {
    "slideshow": {
     "slide_type": "subslide"
    }
   },
   "source": [
    "## 🔁 Typical Git Workflow\n",
    "**edit → add → commit → push → pull request (PR)**\n",
    "\n",
    "1. **Edit** files (make your changes) ✍️  \n",
    "2. **Stage** changes: `git add <files>` 📦  \n",
    "3. **Commit** with a message: `git commit -m \"message\"` 📝  \n",
    "4. **Push** to GitHub: `git push` ☁️  \n",
    "5. **Open a Pull Request** on GitHub to merge changes 🔀\n"
   ]
  },
  {
   "cell_type": "markdown",
   "id": "031e7ed6",
   "metadata": {
    "slideshow": {
     "slide_type": "slide"
    }
   },
   "source": [
    "## ⬇️ Clone a Repository\n",
    "Cloning creates a **local copy** of a remote repo.\n",
    "\n",
    "> In Codespaces you can also choose **\"New with template\"** or **\"Create codespace\"** directly from a repo without cloning locally.\n",
    "\n",
    "Try cloning (if you're not in a Codespace already):\n"
   ]
  },
  {
   "cell_type": "code",
   "execution_count": null,
   "id": "967880f6",
   "metadata": {
    "slideshow": {
     "slide_type": "fragment"
    }
   },
   "outputs": [],
   "source": [
    "# Replace the URL with a repo you have access to\n",
    "!git clone https://github.com/github/training-kit.git\n",
    "%cd training-kit || echo \"Change directory after cloning to the repo folder.\"\n"
   ]
  },
  {
   "cell_type": "markdown",
   "id": "c81c56c9",
   "metadata": {
    "slideshow": {
     "slide_type": "slide"
    }
   },
   "source": [
    "## 📝 Make Changes & Commit\n",
    "1. Edit a file (e.g., `README.md`)  \n",
    "2. Check what changed with `git status`  \n",
    "3. Stage and commit your changes\n"
   ]
  },
  {
   "cell_type": "code",
   "execution_count": null,
   "id": "37de0686",
   "metadata": {
    "slideshow": {
     "slide_type": "fragment"
    }
   },
   "outputs": [],
   "source": [
    "# See current repo status\n",
    "!git status\n",
    "\n",
    "# Stage a specific file (replace with a file you edited)\n",
    "!git add README.md\n",
    "\n",
    "# Or stage everything you changed (be careful)\n",
    "!git add -A\n",
    "\n",
    "# Commit with a message\n",
    "!git commit -m \"Add first change: update README with learning goals\"\n"
   ]
  },
  {
   "cell_type": "markdown",
   "id": "9321804d",
   "metadata": {
    "slideshow": {
     "slide_type": "subslide"
    }
   },
   "source": [
    "## ☁️ Push Changes to Remote\n",
    "If your branch is new, Git may ask you to set the upstream.  \n",
    "Then your commits will appear on GitHub.\n"
   ]
  },
  {
   "cell_type": "code",
   "execution_count": null,
   "id": "5354ba10",
   "metadata": {
    "slideshow": {
     "slide_type": "fragment"
    }
   },
   "outputs": [],
   "source": [
    "# Push current branch to its remote tracking branch\n",
    "!git push -u origin HEAD\n",
    "\n",
    "# After the first push, you can usually just do:\n",
    "!git push\n"
   ]
  },
  {
   "cell_type": "markdown",
   "id": "ff43e2aa",
   "metadata": {
    "slideshow": {
     "slide_type": "slide"
    }
   },
   "source": [
    "## 🌿 (Optional) Work on a Branch\n",
    "Branches let you isolate work until it's ready.\n",
    "\n",
    "- Create a new branch for each feature or fix  \n",
    "- Push the branch and open a Pull Request\n"
   ]
  },
  {
   "cell_type": "code",
   "execution_count": null,
   "id": "2b158e58",
   "metadata": {
    "slideshow": {
     "slide_type": "fragment"
    }
   },
   "outputs": [],
   "source": [
    "# Create and switch to a new branch\n",
    "!git checkout -b feature/update-readme\n",
    "\n",
    "# Push the branch to GitHub\n",
    "!git push -u origin feature/update-readme\n"
   ]
  },
  {
   "cell_type": "markdown",
   "id": "6c671750",
   "metadata": {
    "slideshow": {
     "slide_type": "subslide"
    }
   },
   "source": [
    "## 🔀 Open a Pull Request (PR)\n",
    "1. Go to your repo on GitHub  \n",
    "2. You'll see a prompt to **Compare & pull request**  \n",
    "3. Add a clear title & description (what/why)  \n",
    "4. Request review and **Merge** when approved ✔️\n"
   ]
  },
  {
   "cell_type": "markdown",
   "id": "c2d336d9",
   "metadata": {
    "slideshow": {
     "slide_type": "fragment"
    }
   },
   "source": [
    "## ⬇️ Pull Latest Changes\n",
    "Keep your local branch up-to-date with the remote:\n"
   ]
  },
  {
   "cell_type": "code",
   "execution_count": null,
   "id": "22f9e64b",
   "metadata": {
    "slideshow": {
     "slide_type": "fragment"
    }
   },
   "outputs": [],
   "source": [
    "# Update your local branch with the remote changes\n",
    "!git pull --rebase origin $(git rev-parse --abbrev-ref HEAD)\n"
   ]
  },
  {
   "cell_type": "markdown",
   "id": "a97ded5f",
   "metadata": {
    "slideshow": {
     "slide_type": "slide"
    }
   },
   "source": [
    "## 🧩 Mini Hands‑On Challenges\n",
    "1. Create a new Codespace for a repo you can edit  \n",
    "2. Make a change to `README.md` and commit it  \n",
    "3. Create a new branch and push it  \n",
    "4. Open a Pull Request summarizing your changes  \n",
    "5. Pull changes after your PR is merged\n"
   ]
  },
  {
   "cell_type": "markdown",
   "id": "f608b797",
   "metadata": {
    "slideshow": {
     "slide_type": "subslide"
    }
   },
   "source": [
    "## 🛠️ Common Mistakes & Quick Fixes\n",
    "- **Forgot to add a file?** → `git add <file>` then `git commit --amend --no-edit`  \n",
    "- **Wrong branch?** → `git switch <branch>` or `git checkout <branch>`  \n",
    "- **Merge conflict?** → Open conflicted files, fix markers, `git add`, `git commit`  \n",
    "- **Pushed to the wrong branch?** → Create a new branch and open PR from it\n"
   ]
  },
  {
   "cell_type": "markdown",
   "id": "2d3cc75c",
   "metadata": {
    "slideshow": {
     "slide_type": "fragment"
    }
   },
   "source": [
    "## 📎 Quick Reference (Cheatsheet)\n",
    "- Repo status: `git status`  \n",
    "- See diffs: `git diff`  \n",
    "- Stage changes: `git add <file>` or `git add -A`  \n",
    "- Commit: `git commit -m \"message\"`  \n",
    "- Push: `git push`  \n",
    "- Pull: `git pull --rebase`  \n",
    "- Branches: `git branch`, `git switch <name>`, `git checkout -b <name>`\n"
   ]
  }
 ],
 "metadata": {
  "language_info": {
   "name": "python"
  },
  "rise": {
   "controls": true,
   "height": "100%",
   "progress": true,
   "slideNumber": true,
   "theme": "simple",
   "transition": "fade",
   "width": "100%"
  }
 },
 "nbformat": 4,
 "nbformat_minor": 5
}
